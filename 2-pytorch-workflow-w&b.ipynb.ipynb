{
 "cells": [
  {
   "cell_type": "markdown",
   "metadata": {},
   "source": [
    "### Setup\n",
    "set working directory as the project directory"
   ]
  },
  {
   "cell_type": "code",
   "execution_count": 2,
   "metadata": {},
   "outputs": [
    {
     "name": "stdout",
     "output_type": "stream",
     "text": [
      "c:\\Users\\JAM5BG\\OneDrive - Bosch Group\\PersonalDrive\\YT-tutorials\\PyTorch Workflow Mastery - Cainã Max Couto da Silva\n"
     ]
    }
   ],
   "source": [
    "import os\n",
    "\n",
    "if os.getcwd().endswith(\"notebooks\"):\n",
    "    os.chdir(\"..\")\n",
    "print(os.getcwd())"
   ]
  },
  {
   "cell_type": "markdown",
   "metadata": {},
   "source": [
    "### Libraries"
   ]
  },
  {
   "cell_type": "code",
   "execution_count": 3,
   "metadata": {},
   "outputs": [],
   "source": [
    "import torch\n",
    "from torch import nn\n",
    "from torch.optim import Adam, SGD\n",
    "import torchmetrics\n",
    "from torchvision import datasets\n",
    "import torchvision.transforms as transforms\n",
    "from torchvision.models import ResNet18_Weights, resnet18\n",
    "\n",
    "from tqdm import tqdm\n",
    "from loguru import logger\n",
    "\n",
    "import numpy as np\n",
    "import matplotlib.pyplot as plt\n",
    "\n",
    "import wandb\n",
    "from dotenv import load_dotenv"
   ]
  },
  {
   "cell_type": "markdown",
   "metadata": {},
   "source": [
    "### Device (GPU or CPU)"
   ]
  },
  {
   "cell_type": "code",
   "execution_count": 4,
   "metadata": {},
   "outputs": [],
   "source": [
    "# [Optional] Enable TF32 for better performance on modern NVIDIA GPUs\n",
    "torch.set_float32_matmul_precision('high')"
   ]
  },
  {
   "cell_type": "code",
   "execution_count": 5,
   "metadata": {},
   "outputs": [
    {
     "name": "stdout",
     "output_type": "stream",
     "text": [
      "Using device: cpu\n"
     ]
    }
   ],
   "source": [
    "# Set available device (CPU or GPU - cuda)\n",
    "device = torch.device(\"cuda\" if torch.cuda.is_available() else \"cpu\")\n",
    "print(f\"Using device: {device}\")"
   ]
  },
  {
   "cell_type": "markdown",
   "metadata": {},
   "source": [
    "### Config Params "
   ]
  },
  {
   "cell_type": "code",
   "execution_count": 6,
   "metadata": {},
   "outputs": [],
   "source": [
    "# Random seed\n",
    "seed = 42\n",
    "\n",
    "# Training parameters\n",
    "num_epoch = 3\n",
    "batch_size = 128 # Larger batches for faster training\n",
    "learning_rate = 0.001\n",
    "\n",
    "# Model parameters\n",
    "num_classes = 10 # CIFAR10 has 10 classes\n",
    "model_path = \"weights/cifar10_model.pt\" # Path to load model weights\n",
    "\n",
    "# DataLoader settings\n",
    "train_num_workers = 4 # Number of parallel processes for data loading\n",
    "test_num_workers = 4  # Increase these if you have more CPU cores"
   ]
  },
  {
   "cell_type": "code",
   "execution_count": 7,
   "metadata": {},
   "outputs": [],
   "source": [
    "## -- Set seeds -- ##\n",
    "\n",
    "# CPU seed\n",
    "torch.manual_seed(seed)  # Controls random number generation for PyTorch CPU operations\n",
    "\n",
    "# NumPy seed (for data loading/processing)\n",
    "np.random.seed(seed)     # Controls random number generation for NumPy operations\n",
    "\n",
    "# If GPU is available\n",
    "if torch.cuda.is_available():\n",
    "    # GPU seed\n",
    "    torch.cuda.manual_seed(seed)  # Controls random number generation for PyTorch GPU operations\n",
    "    # Force CUDA to use deterministic algorithms\n",
    "    torch.backends.cudnn.deterministic = False  # Makes GPU operations deterministic (might be slower)\n",
    "    \n",
    "# Set `deterministic = False` because we'll prioritize performance over reproducibility =S"
   ]
  },
  {
   "cell_type": "markdown",
   "metadata": {},
   "source": [
    "### Weight & Biases Integration"
   ]
  },
  {
   "cell_type": "code",
   "execution_count": 19,
   "metadata": {},
   "outputs": [
    {
     "name": "stdout",
     "output_type": "stream",
     "text": [
      "\n"
     ]
    }
   ],
   "source": [
    "# Load environment variables\n",
    "load_dotenv()\n",
    "\n",
    "# Verify API key is loaded (don't print in production)\n",
    "assert os.getenv(\"WANDB_API_KEY\") is not None, \"WANDB_API_KEY is not found in environment variables\"\n",
    "print(os.getenv(\"WANDB_API_KEY\"))"
   ]
  },
  {
   "cell_type": "code",
   "execution_count": null,
   "metadata": {},
   "outputs": [
    {
     "name": "stderr",
     "output_type": "stream",
     "text": [
      "\u001b[34m\u001b[1mwandb\u001b[0m: Using wandb-core as the SDK backend.  Please refer to https://wandb.me/wandb-core for more information.\n",
      "\u001b[34m\u001b[1mwandb\u001b[0m: Logging into wandb.ai. (Learn how to deploy a W&B server locally: https://wandb.me/wandb-server)\n",
      "\u001b[34m\u001b[1mwandb\u001b[0m: You can find your API key in your browser here: https://wandb.ai/authorize\n",
      "\u001b[34m\u001b[1mwandb\u001b[0m: Paste an API key from your profile and hit enter:"
     ]
    }
   ],
   "source": [
    "# Rest of your wandb setup remains the same\n",
    "wandb.init(\n",
    "    project=\"pytorch-cifar10\",\n",
    "    config={\n",
    "        \"learning_rate\": learning_rate,\n",
    "        \"epochs\": num_epoch,\n",
    "        \"batch_size\": batch_size,\n",
    "        \"model\": \"ResNet18\",\n",
    "        \"optimizer\": \"Adam\",\n",
    "        \"architecture\": \"Modified for CIFAR10\"\n",
    "    }\n",
    ")"
   ]
  },
  {
   "cell_type": "markdown",
   "metadata": {},
   "source": [
    "### Dataset"
   ]
  },
  {
   "cell_type": "code",
   "execution_count": 16,
   "metadata": {},
   "outputs": [],
   "source": [
    "# Data Transformers\n",
    "\n",
    "# Transformations like resizing and normalizaing alongside data augmentation\n",
    "train_transformer = transforms.Compose([   \n",
    "    transforms.ToTensor(),\n",
    "    # Data Augmentation,\n",
    "    transforms.Normalize((0.485, 0.456, 0.406), (0.229, 0.224, 0.225))\n",
    "])\n",
    "\n",
    "# Usually Resizing and normalizaton without data augmentation\n",
    "val_transformer = transforms.Compose([     \n",
    "    transforms.ToTensor(),\n",
    "    transforms.Normalize((0.485, 0.456, 0.406), (0.229, 0.224, 0.225))\n",
    "])\n",
    "\n",
    "# Usually same as validation transformation\n",
    "test_transformer = transforms.Compose([     \n",
    "    transforms.ToTensor(),\n",
    "    transforms.Normalize((0.485, 0.456, 0.406), (0.229, 0.224, 0.225))\n",
    "])"
   ]
  },
  {
   "cell_type": "code",
   "execution_count": 17,
   "metadata": {},
   "outputs": [
    {
     "name": "stderr",
     "output_type": "stream",
     "text": [
      "100%|██████████| 170M/170M [04:41<00:00, 606kB/s] \n"
     ]
    }
   ],
   "source": [
    "## -- Download & load data -- ##\n",
    "\n",
    "# Dataset\n",
    "train_dataset = datasets.CIFAR10(root=\"./data\", train=True, download=True, transform=train_transformer)\n",
    "val_dataset = datasets.CIFAR10(root=\"./data\", train=False, download=True, transform=val_transformer)\n",
    "\n",
    "# DataLoaders\n",
    "train_loader = torch.utils.data.DataLoader(\n",
    "    train_dataset,\n",
    "    batch_size=batch_size,\n",
    "    shuffle=True,\n",
    "    num_workers=train_num_workers,\n",
    "    pin_memory=True\n",
    ")\n",
    "\n",
    "val_loader = torch.utils.data.DataLoader(\n",
    "    val_dataset,\n",
    "    batch_size=batch_size,\n",
    "    shuffle=True,\n",
    "    num_workers=train_num_workers,\n",
    "    pin_memory=True\n",
    ")\n",
    "\n",
    "# Test dataset -> not available in this example,\n",
    "# but real-life applications require test data - mainly when tuning hyperparameters!!"
   ]
  },
  {
   "cell_type": "code",
   "execution_count": 18,
   "metadata": {},
   "outputs": [
    {
     "data": {
      "text/plain": [
       "(tensor([[[-1.1075, -1.3815, -1.2617,  ...,  0.5878,  0.4851,  0.4166],\n",
       "          [-1.8439, -2.1179, -1.8097,  ..., -0.0116, -0.0801, -0.0287],\n",
       "          [-1.6898, -1.8439, -1.2788,  ..., -0.0972, -0.0629, -0.2513],\n",
       "          ...,\n",
       "          [ 1.4440,  1.3242,  1.2728,  ...,  0.6221, -1.1589, -1.2103],\n",
       "          [ 0.9646,  0.8447,  1.0673,  ...,  1.0331, -0.4568, -0.6965],\n",
       "          [ 0.9132,  0.7591,  0.9474,  ...,  1.5810,  0.4679, -0.0116]],\n",
       " \n",
       "         [[-0.9503, -1.2304, -1.1954,  ...,  0.2752,  0.1527,  0.1352],\n",
       "          [-1.6856, -2.0357, -1.8957,  ..., -0.4951, -0.5826, -0.5126],\n",
       "          [-1.6155, -1.9132, -1.5630,  ..., -0.5651, -0.5651, -0.7577],\n",
       "          ...,\n",
       "          [ 0.9405,  0.6429,  0.7829,  ...,  0.2927, -1.4930, -1.4405],\n",
       "          [ 0.3978,  0.1176,  0.4853,  ...,  0.5553, -0.9503, -1.1078],\n",
       "          [ 0.4853,  0.2227,  0.4503,  ...,  1.1856,  0.0301, -0.4251]],\n",
       " \n",
       "         [[-0.7064, -1.0201, -1.0550,  ...,  0.0779, -0.0267, -0.0092],\n",
       "          [-1.4559, -1.8044, -1.8044,  ..., -0.8458, -0.9330, -0.8110],\n",
       "          [-1.4384, -1.8044, -1.6650,  ..., -0.9330, -0.9330, -1.0724],\n",
       "          ...,\n",
       "          [-0.1312, -1.2119, -1.3513,  ..., -0.5844, -1.6824, -1.4559],\n",
       "          [-0.1312, -1.0724, -1.2816,  ..., -0.1661, -1.2119, -1.2119],\n",
       "          [ 0.2173, -0.1661, -0.2881,  ...,  0.6356, -0.3404, -0.5495]]]),\n",
       " 6)"
      ]
     },
     "execution_count": 18,
     "metadata": {},
     "output_type": "execute_result"
    }
   ],
   "source": [
    "train_dataset[0]"
   ]
  },
  {
   "cell_type": "code",
   "execution_count": 19,
   "metadata": {},
   "outputs": [
    {
     "data": {
      "text/plain": [
       "{'airplane': 0,\n",
       " 'automobile': 1,\n",
       " 'bird': 2,\n",
       " 'cat': 3,\n",
       " 'deer': 4,\n",
       " 'dog': 5,\n",
       " 'frog': 6,\n",
       " 'horse': 7,\n",
       " 'ship': 8,\n",
       " 'truck': 9}"
      ]
     },
     "execution_count": 19,
     "metadata": {},
     "output_type": "execute_result"
    }
   ],
   "source": [
    "train_dataset.class_to_idx"
   ]
  },
  {
   "cell_type": "markdown",
   "metadata": {},
   "source": [
    "### Model"
   ]
  },
  {
   "cell_type": "code",
   "execution_count": 20,
   "metadata": {},
   "outputs": [
    {
     "data": {
      "text/plain": [
       "device(type='cpu')"
      ]
     },
     "execution_count": 20,
     "metadata": {},
     "output_type": "execute_result"
    }
   ],
   "source": [
    "device"
   ]
  },
  {
   "cell_type": "code",
   "execution_count": 21,
   "metadata": {},
   "outputs": [
    {
     "data": {
      "text/plain": [
       "ImageClassification(\n",
       "    crop_size=[224]\n",
       "    resize_size=[256]\n",
       "    mean=[0.485, 0.456, 0.406]\n",
       "    std=[0.229, 0.224, 0.225]\n",
       "    interpolation=InterpolationMode.BILINEAR\n",
       ")"
      ]
     },
     "execution_count": 21,
     "metadata": {},
     "output_type": "execute_result"
    }
   ],
   "source": [
    "ResNet18_Weights.IMAGENET1K_V1.transforms()"
   ]
  },
  {
   "cell_type": "code",
   "execution_count": 22,
   "metadata": {},
   "outputs": [],
   "source": [
    "# Load the model\n",
    "model = resnet18(weights=ResNet18_Weights.IMAGENET1K_V1)\n",
    "\n",
    "# Modify the final layer for CIFAR-10 (10 classes)\n",
    "model.fc = nn.Linear(model.fc.in_features, 10)\n",
    "\n",
    "# Set it to target device\n",
    "model = model.to(device)\n",
    "\n",
    "# Optional step, compile model to make it faster (torch >= 2.0). With it code breaks !!!\n",
    "# model = torch.compile(model)\n",
    "\n",
    "# Set up loss function\n",
    "criterion = nn.CrossEntropyLoss()\n",
    "\n",
    "# Set up optimizer\n",
    "optimizer = Adam(model.parameters(), lr=learning_rate)\n",
    "\n",
    "# Schedule for learning rate\n",
    "# search torch scheduler"
   ]
  },
  {
   "cell_type": "code",
   "execution_count": 23,
   "metadata": {},
   "outputs": [],
   "source": [
    "# Metrics\n",
    "train_loss = torchmetrics.MeanMetric().to(device)\n",
    "val_loss = torchmetrics.MeanMetric().to(device)\n",
    "train_accuracy = torchmetrics.Accuracy(task=\"multiclass\", num_classes=10).to(device)\n",
    "val_accuracy = torchmetrics.Accuracy(task=\"multiclass\", num_classes=10).to(device)"
   ]
  },
  {
   "cell_type": "markdown",
   "metadata": {},
   "source": [
    "### Train"
   ]
  },
  {
   "cell_type": "code",
   "execution_count": 24,
   "metadata": {},
   "outputs": [
    {
     "name": "stderr",
     "output_type": "stream",
     "text": [
      "\u001b[32m2025-04-24 11:35:53.423\u001b[0m | \u001b[1mINFO    \u001b[0m | \u001b[36m__main__\u001b[0m:\u001b[36m<module>\u001b[0m:\u001b[36m1\u001b[0m - \u001b[1mstarting training...\u001b[0m\n",
      "\u001b[32m2025-04-24 12:05:28.877\u001b[0m | \u001b[34m\u001b[1mDEBUG   \u001b[0m | \u001b[36m__main__\u001b[0m:\u001b[36m<module>\u001b[0m:\u001b[36m61\u001b[0m - \u001b[34m\u001b[1mEpoch 1/3: Train Loss: 0.888 | Train Acc: 69.9% | Val Loss: 0.685 | Val Acc: 76.7%\u001b[0m\n",
      "\u001b[32m2025-04-24 12:16:19.874\u001b[0m | \u001b[34m\u001b[1mDEBUG   \u001b[0m | \u001b[36m__main__\u001b[0m:\u001b[36m<module>\u001b[0m:\u001b[36m61\u001b[0m - \u001b[34m\u001b[1mEpoch 2/3: Train Loss: 0.570 | Train Acc: 80.8% | Val Loss: 0.647 | Val Acc: 78.1%\u001b[0m\n",
      "\u001b[32m2025-04-24 12:27:20.496\u001b[0m | \u001b[34m\u001b[1mDEBUG   \u001b[0m | \u001b[36m__main__\u001b[0m:\u001b[36m<module>\u001b[0m:\u001b[36m61\u001b[0m - \u001b[34m\u001b[1mEpoch 3/3: Train Loss: 0.438 | Train Acc: 85.2% | Val Loss: 0.624 | Val Acc: 79.4%\u001b[0m\n",
      "\u001b[32m2025-04-24 12:27:20.499\u001b[0m | \u001b[32m\u001b[1mSUCCESS \u001b[0m | \u001b[36m__main__\u001b[0m:\u001b[36m<module>\u001b[0m:\u001b[36m69\u001b[0m - \u001b[32m\u001b[1mModel trained!\u001b[0m\n"
     ]
    }
   ],
   "source": [
    "logger.info(\"Starting training...\")\n",
    "\n",
    "for epoch in range(num_epochs):\n",
    "\n",
    "    ## -- Train step -- ##\n",
    "    \n",
    "    model.train()\n",
    "    train_loss.reset()\n",
    "    train_accuracy.reset()\n",
    "\n",
    "    train_progress = tqdm(train_loader, desc=f'• Epoch {epoch + 1}/{num_epochs} [Train]', leave=False)\n",
    "\n",
    "    for images, labels in train_progress:\n",
    "        images, labels = images.to(device), labels.to(device)\n",
    "\n",
    "        # Forward pass\n",
    "        outputs = model(images)\n",
    "        loss = criterion(outputs, labels)\n",
    "\n",
    "        # Backward pass and optimize\n",
    "        optimizer.zero_grad(set_to_none=True)\n",
    "        loss.backward()\n",
    "        optimizer.step()\n",
    "\n",
    "        # Update metrics\n",
    "        train_loss.update(loss)\n",
    "        train_accuracy.update(outputs, labels)\n",
    "\n",
    "        train_progress.set_postfix({\n",
    "            'loss': f'{train_loss.compute():.3f}',\n",
    "            'acc': f'{train_accuracy.compute():.1%}'\n",
    "        })\n",
    "\n",
    "    ## -- Validation step -- ##\n",
    "\n",
    "    model.eval()\n",
    "    val_loss.reset()\n",
    "    val_accuracy.reset()\n",
    "\n",
    "    with torch.inference_mode():\n",
    "        val_progress = tqdm(\n",
    "            val_loader, desc=f'• Epoch {epoch + 1}/{num_epochs} [Valid]', leave=False\n",
    "        )\n",
    "\n",
    "        for images, labels in val_progress:\n",
    "            images, labels = images.to(device), labels.to(device)\n",
    "            \n",
    "            # Forward pass\n",
    "            outputs = model(images)\n",
    "            loss = criterion(outputs, labels)\n",
    "            \n",
    "            # Update metrics\n",
    "            val_loss.update(loss)\n",
    "            val_accuracy.update(outputs, labels)\n",
    "            \n",
    "            val_progress.set_postfix({\n",
    "                'loss': f'{val_loss.compute():.3f}',\n",
    "                'acc': f'{val_accuracy.compute():.1%}'\n",
    "            })\n",
    "\n",
    "    # Print epoch summary\n",
    "    logger.debug(\n",
    "        f\"Epoch {epoch+1}/{num_epochs}: \"\n",
    "        f\"Train Loss: {train_loss.compute():.3f} | \"\n",
    "        f\"Train Acc: {train_accuracy.compute():.1%} | \"\n",
    "        f\"Val Loss: {val_loss.compute():.3f} | \"\n",
    "        f\"Val Acc: {val_accuracy.compute():.1%}\"\n",
    "    )\n",
    "\n",
    "    # Log to wandb\n",
    "    wandb.log({\n",
    "        'epoch': epoch,\n",
    "        'train_loss': train_loss.compute(),\n",
    "        'train_accuracy': train_accuracy.compute(),\n",
    "        'val_loss': val_loss.compute(),\n",
    "        'val_accuracy': val_accuracy.compute()\n",
    "    })\n",
    "\n",
    "logger.success('Model trained!')"
   ]
  },
  {
   "cell_type": "code",
   "execution_count": 25,
   "metadata": {},
   "outputs": [
    {
     "name": "stderr",
     "output_type": "stream",
     "text": [
      "\u001b[32m2025-04-24 12:27:20.849\u001b[0m | \u001b[1mINFO    \u001b[0m | \u001b[36m__main__\u001b[0m:\u001b[36m<module>\u001b[0m:\u001b[36m12\u001b[0m - \u001b[1mModel saved to weights/cifar10_model.pt\u001b[0m\n"
     ]
    }
   ],
   "source": [
    "import os\n",
    "\n",
    "os.makedirs(os.path.dirname(model_path), exist_ok=True)\n",
    "\n",
    "# Save fine-tuned model and training state\n",
    "torch.save({\n",
    "   'model_state_dict': model.state_dict(),          # Model weights\n",
    "   'optimizer_state_dict': optimizer.state_dict(),  # Optimizer state\n",
    "   'epoch': num_epoch,                              # Number of trained epochs\n",
    "}, model_path)\n",
    "\n",
    "logger.info(f\"Model saved to {model_path}\")"
   ]
  },
  {
   "cell_type": "markdown",
   "metadata": {},
   "source": [
    "### Inference"
   ]
  },
  {
   "cell_type": "code",
   "execution_count": 26,
   "metadata": {},
   "outputs": [],
   "source": [
    "# Load checkpoint\n",
    "checkpoint = torch.load(model_path, weights_only=True)\n",
    "\n",
    "# Initialize model architecture\n",
    "model = resnet18()\n",
    "model.fc = nn.Linear(model.fc.in_features, num_classes)\n",
    "\n",
    "# Compile model as training\n",
    "model = model.to(device) \n",
    "# model = torch.compile(model)\n",
    "\n",
    "# Load model weights\n",
    "model.load_state_dict(checkpoint['model_state_dict']);"
   ]
  },
  {
   "cell_type": "code",
   "execution_count": 27,
   "metadata": {},
   "outputs": [
    {
     "data": {
      "image/png": "[encoded data removed]",
      "text/plain": [
       "<Figure size 1500x300 with 10 Axes>"
      ]
     },
     "metadata": {},
     "output_type": "display_data"
    }
   ],
   "source": [
    "\n",
    "# Set random seed for reproducibility\n",
    "np.random.seed(42)\n",
    "\n",
    "# Number of samples to visualize\n",
    "n_samples = 10\n",
    "\n",
    "# Get random indices\n",
    "val_indices = np.random.choice(len(val_dataset), size=n_samples, replace=False)\n",
    "\n",
    "# Set up the plot\n",
    "plt.figure(figsize=(15, 3))\n",
    "\n",
    "# Get class names from CIFAR10\n",
    "classes = val_dataset.classes\n",
    "\n",
    "model.eval()\n",
    "with torch.inference_mode():\n",
    "    for idx, sample_idx in enumerate(val_indices):\n",
    "\n",
    "        # Get the image and label\n",
    "        image, true_label = val_dataset[sample_idx]\n",
    "        \n",
    "        # Add batch dimension and move to device\n",
    "        image = image.unsqueeze(0).to(device)\n",
    "        \n",
    "        # Get prediction\n",
    "        output = model(image)\n",
    "        predicted_label = output.argmax(1).item()\n",
    "        \n",
    "        # Convert image for display\n",
    "        img = image.cpu().squeeze()\n",
    "        img = img.permute(1, 2, 0)  # Change from CxHxW to HxWxC\n",
    "        \n",
    "        # Denormalize the image\n",
    "        mean = torch.tensor([0.485, 0.456, 0.406])\n",
    "        std = torch.tensor([0.229, 0.224, 0.225])\n",
    "        img = img * std + mean\n",
    "        \n",
    "        # Plot\n",
    "        plt.subplot(1, n_samples, idx + 1)\n",
    "        plt.imshow(img)\n",
    "        plt.axis('off')\n",
    "        color = 'green' if predicted_label == true_label else 'red'\n",
    "        plt.title(\n",
    "            f'Pred: {classes[predicted_label]}\\n'\n",
    "            f'True: {classes[true_label]}',\n",
    "            color=color\n",
    "        )\n",
    "\n",
    "plt.tight_layout()\n",
    "plt.show()"
   ]
  }
 ],
 "metadata": {
  "kernelspec": {
   "display_name": ".venv",
   "language": "python",
   "name": "python3"
  },
  "language_info": {
   "codemirror_mode": {
    "name": "ipython",
    "version": 3
   },
   "file_extension": ".py",
   "mimetype": "text/x-python",
   "name": "python",
   "nbconvert_exporter": "python",
   "pygments_lexer": "ipython3",
   "version": "3.13.0"
  }
 },
 "nbformat": 4,
 "nbformat_minor": 2
}
