{
 "cells": [
  {
   "cell_type": "markdown",
   "metadata": {},
   "source": [
    "### Setup\n",
    "set working directory as the project directory"
   ]
  },
  {
   "cell_type": "code",
   "execution_count": 2,
   "metadata": {},
   "outputs": [
    {
     "name": "stdout",
     "output_type": "stream",
     "text": [
      "c:\\Users\\JAM5BG\\OneDrive - Bosch Group\\PersonalDrive\\YT-tutorials\\PyTorch Workflow Mastery - Cainã Max Couto da Silva\n"
     ]
    }
   ],
   "source": [
    "import os\n",
    "\n",
    "if os.getcwd().endswith(\"notebooks\"):\n",
    "    os.chdir(\"..\")\n",
    "print(os.getcwd())"
   ]
  },
  {
   "cell_type": "markdown",
   "metadata": {},
   "source": [
    "### Libraries"
   ]
  },
  {
   "cell_type": "code",
   "execution_count": 9,
   "metadata": {},
   "outputs": [],
   "source": [
    "import torch\n",
    "from torch import nn\n",
    "from torch.optim import Adam, SGD\n",
    "import torchmetrics\n",
    "from torchvision import datasets\n",
    "import torchvision.transforms as transforms\n",
    "from torchvision.models import ResNet18_Weights, resnet18\n",
    "\n",
    "from tqdm import tqdm\n",
    "from loguru import logger\n",
    "\n",
    "import numpy as np\n",
    "import matplotlib.pyplot as plt\n",
    "\n",
    "import wandb\n",
    "from dotenv import load_dotenv\n",
    "import optuna\n"
   ]
  },
  {
   "cell_type": "markdown",
   "metadata": {},
   "source": [
    "### Device (GPU or CPU)"
   ]
  },
  {
   "cell_type": "code",
   "execution_count": 4,
   "metadata": {},
   "outputs": [],
   "source": [
    "# [Optional] Enable TF32 for better performance on modern NVIDIA GPUs\n",
    "torch.set_float32_matmul_precision('high')"
   ]
  },
  {
   "cell_type": "code",
   "execution_count": 5,
   "metadata": {},
   "outputs": [
    {
     "name": "stdout",
     "output_type": "stream",
     "text": [
      "Using device: cpu\n"
     ]
    }
   ],
   "source": [
    "# Set available device (CPU or GPU - cuda)\n",
    "device = torch.device(\"cuda\" if torch.cuda.is_available() else \"cpu\")\n",
    "print(f\"Using device: {device}\")"
   ]
  },
  {
   "cell_type": "markdown",
   "metadata": {},
   "source": [
    "### Config Params "
   ]
  },
  {
   "cell_type": "code",
   "execution_count": 6,
   "metadata": {},
   "outputs": [],
   "source": [
    "# Random seed\n",
    "seed = 42\n",
    "\n",
    "# Training parameters\n",
    "num_epoch = 3\n",
    "batch_size = 128 # Larger batches for faster training\n",
    "learning_rate = 0.001\n",
    "\n",
    "# Model parameters\n",
    "num_classes = 10 # CIFAR10 has 10 classes\n",
    "model_path = \"weights/cifar10_model.pt\" # Path to load model weights\n",
    "\n",
    "# DataLoader settings\n",
    "train_num_workers = 4 # Number of parallel processes for data loading\n",
    "test_num_workers = 4  # Increase these if you have more CPU cores"
   ]
  },
  {
   "cell_type": "code",
   "execution_count": 7,
   "metadata": {},
   "outputs": [],
   "source": [
    "## -- Set seeds -- ##\n",
    "\n",
    "# CPU seed\n",
    "torch.manual_seed(seed)  # Controls random number generation for PyTorch CPU operations\n",
    "\n",
    "# NumPy seed (for data loading/processing)\n",
    "np.random.seed(seed)     # Controls random number generation for NumPy operations\n",
    "\n",
    "# If GPU is available\n",
    "if torch.cuda.is_available():\n",
    "    # GPU seed\n",
    "    torch.cuda.manual_seed(seed)  # Controls random number generation for PyTorch GPU operations\n",
    "    # Force CUDA to use deterministic algorithms\n",
    "    torch.backends.cudnn.deterministic = False  # Makes GPU operations deterministic (might be slower)\n",
    "    \n",
    "# Set `deterministic = False` because we'll prioritize performance over reproducibility =S"
   ]
  },
  {
   "cell_type": "markdown",
   "metadata": {},
   "source": [
    "### Optuna Workflow"
   ]
  },
  {
   "cell_type": "code",
   "execution_count": 8,
   "metadata": {},
   "outputs": [],
   "source": [
    "# Data Transformers (same as before)\n",
    "train_transformer = transforms.Compose([\n",
    "    transforms.ToTensor(),\n",
    "    transforms.Normalize((0.485, 0.456, 0.406), (0.229, 0.224, 0.225))\n",
    "])\n",
    "\n",
    "val_transformer = transforms.Compose([\n",
    "    transforms.ToTensor(),\n",
    "    transforms.Normalize((0.485, 0.456, 0.406), (0.229, 0.224, 0.225))\n",
    "])"
   ]
  },
  {
   "cell_type": "code",
   "execution_count": 10,
   "metadata": {},
   "outputs": [],
   "source": [
    "# Define Optuna objective\n",
    "def objective(trial):\n",
    "    \n",
    "    # Sample hyperparameters\n",
    "    hparams = {\n",
    "        \"learning_rate\": trial.suggest_float(\"learning_rate\", 1e-4, 1e-2, log=True),\n",
    "        \"batch_size\": trial.suggest_categorical(\"batch_size\", [64, 128, 256]),\n",
    "        \"optimizer\": trial.suggest_categorical(\"optimizer\", [\"Adam\", \"SGD\"]),\n",
    "        \"dropout_rate\": trial.suggest_float(\"dropout_rate\", 0.1, 0.5),\n",
    "        \"num_epochs\": 3,  # Fixed for quick trials\n",
    "        \"model\": \"ResNet18\",\n",
    "        \"trial_number\": trial.number\n",
    "    }\n",
    "    \n",
    "    # Initialize W&B\n",
    "    run = wandb.init(\n",
    "        project=\"pytorch-cifar10-optuna\",\n",
    "        config=hparams,\n",
    "        name=f\"trial_{trial.number}\",\n",
    "        reinit=True\n",
    "    )\n",
    "    \n",
    "    # Load datasets\n",
    "    train_dataset = datasets.CIFAR10(\n",
    "        root='./data', train=True, download=True, transform=train_transformer\n",
    "    )\n",
    "    val_dataset = datasets.CIFAR10(\n",
    "        root='./data', train=False, download=True, transform=val_transformer\n",
    "    )\n",
    "    \n",
    "    # Create dataloaders\n",
    "    train_loader = torch.utils.data.DataLoader(\n",
    "        train_dataset,\n",
    "        batch_size=hparams[\"batch_size\"],\n",
    "        shuffle=True,\n",
    "        num_workers=train_num_workers,\n",
    "        pin_memory=True\n",
    "    )\n",
    "    \n",
    "    val_loader = torch.utils.data.DataLoader(\n",
    "        val_dataset,\n",
    "        batch_size=hparams[\"batch_size\"],\n",
    "        shuffle=False,\n",
    "        num_workers=train_num_workers,\n",
    "        pin_memory=True\n",
    "    )\n",
    "    \n",
    "    # Initialize model\n",
    "    model = resnet18(weights=ResNet18_Weights.IMAGENET1K_V1)\n",
    "    model.fc = nn.Sequential(\n",
    "        nn.Dropout(hparams[\"dropout_rate\"]),\n",
    "        nn.Linear(model.fc.in_features, num_classes)\n",
    "    )\n",
    "    model = model.to(device)\n",
    "    model = torch.compile(model)\n",
    "    \n",
    "    # Loss and optimizer\n",
    "    criterion = nn.CrossEntropyLoss()\n",
    "    optimizer = (Adam if hparams[\"optimizer\"] == \"Adam\" else SGD)(\n",
    "        model.parameters(), lr=hparams[\"learning_rate\"]\n",
    "    )\n",
    "    \n",
    "    # Metrics\n",
    "    train_loss = torchmetrics.MeanMetric().to(device)\n",
    "    val_loss = torchmetrics.MeanMetric().to(device)\n",
    "    train_accuracy = torchmetrics.Accuracy(task=\"multiclass\", num_classes=10).to(device)\n",
    "    val_accuracy = torchmetrics.Accuracy(task=\"multiclass\", num_classes=10).to(device)\n",
    "    \n",
    "    # Training loop\n",
    "    best_accuracy = 0.0\n",
    "    \n",
    "    for epoch in range(hparams[\"num_epochs\"]):\n",
    "        # Train\n",
    "        model.train()\n",
    "        train_loss.reset()\n",
    "        train_accuracy.reset()\n",
    "        \n",
    "        train_progress = tqdm(train_loader, desc=f'• Epoch {epoch + 1}/{hparams[\"num_epochs\"]} [Train]', leave=False)\n",
    "        \n",
    "        for images, labels in train_progress:\n",
    "            images, labels = images.to(device), labels.to(device)\n",
    "            \n",
    "            optimizer.zero_grad(set_to_none=True)\n",
    "            outputs = model(images)\n",
    "            loss = criterion(outputs, labels)\n",
    "            loss.backward()\n",
    "            optimizer.step()\n",
    "            \n",
    "            train_loss.update(loss)\n",
    "            train_accuracy.update(outputs, labels)\n",
    "            \n",
    "            train_progress.set_postfix({\n",
    "                'loss': f'{train_loss.compute():.3f}',\n",
    "                'acc': f'{train_accuracy.compute():.1%}'\n",
    "            })\n",
    "        \n",
    "        # Validate\n",
    "        model.eval()\n",
    "        val_loss.reset()\n",
    "        val_accuracy.reset()\n",
    "        \n",
    "        with torch.inference_mode():\n",
    "            val_progress = tqdm(\n",
    "                val_loader, desc=f'• Epoch {epoch + 1}/{hparams[\"num_epochs\"]} [Valid]', leave=False\n",
    "            )\n",
    "            \n",
    "            for images, labels in val_progress:\n",
    "                images, labels = images.to(device), labels.to(device)\n",
    "                outputs = model(images)\n",
    "                loss = criterion(outputs, labels)\n",
    "                \n",
    "                val_loss.update(loss)\n",
    "                val_accuracy.update(outputs, labels)\n",
    "                \n",
    "                val_progress.set_postfix({\n",
    "                    'loss': f'{val_loss.compute():.3f}',\n",
    "                    'acc': f'{val_accuracy.compute():.1%}'\n",
    "                })\n",
    "        \n",
    "        # Log metrics\n",
    "        metrics = {\n",
    "            \"epoch\": epoch,\n",
    "            \"train_loss\": train_loss.compute(),\n",
    "            \"train_accuracy\": train_accuracy.compute(),\n",
    "            \"val_loss\": val_loss.compute(),\n",
    "            \"val_accuracy\": val_accuracy.compute()\n",
    "        }\n",
    "        \n",
    "        wandb.log(metrics)\n",
    "        logger.debug(\n",
    "            f\"Epoch {epoch+1}/{hparams['num_epochs']}: \"\n",
    "            f\"Train Loss: {metrics['train_loss']:.3f} | \"\n",
    "            f\"Train Acc: {metrics['train_accuracy']:.1%} | \"\n",
    "            f\"Val Loss: {metrics['val_loss']:.3f} | \"\n",
    "            f\"Val Acc: {metrics['val_accuracy']:.1%}\"\n",
    "        )\n",
    "        \n",
    "        # Update best accuracy\n",
    "        best_accuracy = max(best_accuracy, metrics['val_accuracy'])\n",
    "        \n",
    "        # Report to Optuna\n",
    "        trial.report(metrics['val_accuracy'], epoch)\n",
    "        \n",
    "        if trial.should_prune():\n",
    "            run.finish()\n",
    "            raise optuna.TrialPruned()\n",
    "    \n",
    "    run.finish()\n",
    "    return best_accuracy"
   ]
  },
  {
   "cell_type": "code",
   "execution_count": 16,
   "metadata": {},
   "outputs": [],
   "source": [
    "# Load W&B credentials\n",
    "load_dotenv()\n",
    "assert os.getenv(\"WANDB_API_KEY\") is not None, \"WANDB_API_KEY not found in environment variables\""
   ]
  },
  {
   "cell_type": "code",
   "execution_count": 17,
   "metadata": {},
   "outputs": [
    {
     "name": "stderr",
     "output_type": "stream",
     "text": [
      "[I 2025-04-24 16:56:42,638] A new study created in memory with name: no-name-482efc20-a9b3-49eb-b5ab-ccd972582d68\n"
     ]
    }
   ],
   "source": [
    "# Create and run Optuna study\n",
    "study = optuna.create_study(\n",
    "    direction=\"maximize\",\n",
    "    pruner=optuna.pruners.MedianPruner(n_startup_trials=5, n_warmup_steps=1)\n",
    ")"
   ]
  },
  {
   "cell_type": "code",
   "execution_count": 18,
   "metadata": {},
   "outputs": [
    {
     "name": "stderr",
     "output_type": "stream",
     "text": [
      "\u001b[32m2025-04-24 16:57:01.510\u001b[0m | \u001b[1mINFO    \u001b[0m | \u001b[36m__main__\u001b[0m:\u001b[36m<module>\u001b[0m:\u001b[36m1\u001b[0m - \u001b[1mStarting hyperparameter optimization...\u001b[0m\n",
      "\u001b[34m\u001b[1mwandb\u001b[0m: Using wandb-core as the SDK backend.  Please refer to https://wandb.me/wandb-core for more information.\n",
      "\u001b[34m\u001b[1mwandb\u001b[0m: W&B API key is configured. Use \u001b[1m`wandb login --relogin`\u001b[0m to force relogin\n",
      "\u001b[34m\u001b[1mwandb\u001b[0m: \u001b[33mWARNING\u001b[0m Using a boolean value for 'reinit' is deprecated. Use 'return_previous' or 'finish_previous' instead.\n"
     ]
    },
    {
     "data": {
      "text/html": [
       "creating run (0.0s)"
      ],
      "text/plain": [
       "<IPython.core.display.HTML object>"
      ]
     },
     "metadata": {},
     "output_type": "display_data"
    },
    {
     "name": "stderr",
     "output_type": "stream",
     "text": [
      "[W 2025-04-24 16:57:11,940] Trial 0 failed with parameters: {'learning_rate': 0.000201802515194889, 'batch_size': 256, 'optimizer': 'SGD', 'dropout_rate': 0.2556264865465553} because of the following error: CommError('failed to upsert bucket: returned error 401: {\"data\":{\"upsertBucket\":null},\"errors\":[{\"message\":\"user is not logged in\",\"path\":[\"upsertBucket\"],\"extensions\":{\"code\":\"PERMISSION_ERROR\"}}]}').\n",
      "Traceback (most recent call last):\n",
      "  File \"c:\\Users\\JAM5BG\\OneDrive - Bosch Group\\PersonalDrive\\YT-tutorials\\PyTorch Workflow Mastery - Cainã Max Couto da Silva\\.venv\\Lib\\site-packages\\optuna\\study\\_optimize.py\", line 197, in _run_trial\n",
      "    value_or_values = func(trial)\n",
      "  File \"C:\\Users\\JAM5BG\\AppData\\Local\\Temp\\ipykernel_21884\\1923755125.py\", line 16, in objective\n",
      "    run = wandb.init(\n",
      "        project=\"pytorch-cifar10-optuna\",\n",
      "    ...<2 lines>...\n",
      "        reinit=True\n",
      "    )\n",
      "  File \"c:\\Users\\JAM5BG\\OneDrive - Bosch Group\\PersonalDrive\\YT-tutorials\\PyTorch Workflow Mastery - Cainã Max Couto da Silva\\.venv\\Lib\\site-packages\\wandb\\sdk\\wandb_init.py\", line 1544, in init\n",
      "    wandb._sentry.reraise(e)\n",
      "    ~~~~~~~~~~~~~~~~~~~~~^^^\n",
      "  File \"c:\\Users\\JAM5BG\\OneDrive - Bosch Group\\PersonalDrive\\YT-tutorials\\PyTorch Workflow Mastery - Cainã Max Couto da Silva\\.venv\\Lib\\site-packages\\wandb\\analytics\\sentry.py\", line 156, in reraise\n",
      "    raise exc.with_traceback(sys.exc_info()[2])\n",
      "  File \"c:\\Users\\JAM5BG\\OneDrive - Bosch Group\\PersonalDrive\\YT-tutorials\\PyTorch Workflow Mastery - Cainã Max Couto da Silva\\.venv\\Lib\\site-packages\\wandb\\sdk\\wandb_init.py\", line 1530, in init\n",
      "    return wi.init(run_settings, run_config)\n",
      "           ~~~~~~~^^^^^^^^^^^^^^^^^^^^^^^^^^\n",
      "  File \"c:\\Users\\JAM5BG\\OneDrive - Bosch Group\\PersonalDrive\\YT-tutorials\\PyTorch Workflow Mastery - Cainã Max Couto da Silva\\.venv\\Lib\\site-packages\\wandb\\sdk\\wandb_init.py\", line 987, in init\n",
      "    raise error\n",
      "wandb.errors.errors.CommError: failed to upsert bucket: returned error 401: {\"data\":{\"upsertBucket\":null},\"errors\":[{\"message\":\"user is not logged in\",\"path\":[\"upsertBucket\"],\"extensions\":{\"code\":\"PERMISSION_ERROR\"}}]}\n",
      "[W 2025-04-24 16:57:11,970] Trial 0 failed with value None.\n"
     ]
    },
    {
     "ename": "CommError",
     "evalue": "failed to upsert bucket: returned error 401: {\"data\":{\"upsertBucket\":null},\"errors\":[{\"message\":\"user is not logged in\",\"path\":[\"upsertBucket\"],\"extensions\":{\"code\":\"PERMISSION_ERROR\"}}]}",
     "output_type": "error",
     "traceback": [
      "\u001b[31m---------------------------------------------------------------------------\u001b[39m",
      "\u001b[31mCommError\u001b[39m                                 Traceback (most recent call last)",
      "\u001b[36mCell\u001b[39m\u001b[36m \u001b[39m\u001b[32mIn[18]\u001b[39m\u001b[32m, line 2\u001b[39m\n\u001b[32m      1\u001b[39m logger.info(\u001b[33m\"\u001b[39m\u001b[33mStarting hyperparameter optimization...\u001b[39m\u001b[33m\"\u001b[39m)\n\u001b[32m----> \u001b[39m\u001b[32m2\u001b[39m \u001b[43mstudy\u001b[49m\u001b[43m.\u001b[49m\u001b[43moptimize\u001b[49m\u001b[43m(\u001b[49m\u001b[43mobjective\u001b[49m\u001b[43m,\u001b[49m\u001b[43m \u001b[49m\u001b[43mn_trials\u001b[49m\u001b[43m=\u001b[49m\u001b[32;43m10\u001b[39;49m\u001b[43m)\u001b[49m\n",
      "\u001b[36mFile \u001b[39m\u001b[32mc:\\Users\\JAM5BG\\OneDrive - Bosch Group\\PersonalDrive\\YT-tutorials\\PyTorch Workflow Mastery - Cainã Max Couto da Silva\\.venv\\Lib\\site-packages\\optuna\\study\\study.py:475\u001b[39m, in \u001b[36mStudy.optimize\u001b[39m\u001b[34m(self, func, n_trials, timeout, n_jobs, catch, callbacks, gc_after_trial, show_progress_bar)\u001b[39m\n\u001b[32m    373\u001b[39m \u001b[38;5;28;01mdef\u001b[39;00m\u001b[38;5;250m \u001b[39m\u001b[34moptimize\u001b[39m(\n\u001b[32m    374\u001b[39m     \u001b[38;5;28mself\u001b[39m,\n\u001b[32m    375\u001b[39m     func: ObjectiveFuncType,\n\u001b[32m   (...)\u001b[39m\u001b[32m    382\u001b[39m     show_progress_bar: \u001b[38;5;28mbool\u001b[39m = \u001b[38;5;28;01mFalse\u001b[39;00m,\n\u001b[32m    383\u001b[39m ) -> \u001b[38;5;28;01mNone\u001b[39;00m:\n\u001b[32m    384\u001b[39m \u001b[38;5;250m    \u001b[39m\u001b[33;03m\"\"\"Optimize an objective function.\u001b[39;00m\n\u001b[32m    385\u001b[39m \n\u001b[32m    386\u001b[39m \u001b[33;03m    Optimization is done by choosing a suitable set of hyperparameter values from a given\u001b[39;00m\n\u001b[32m   (...)\u001b[39m\u001b[32m    473\u001b[39m \u001b[33;03m            If nested invocation of this method occurs.\u001b[39;00m\n\u001b[32m    474\u001b[39m \u001b[33;03m    \"\"\"\u001b[39;00m\n\u001b[32m--> \u001b[39m\u001b[32m475\u001b[39m     \u001b[43m_optimize\u001b[49m\u001b[43m(\u001b[49m\n\u001b[32m    476\u001b[39m \u001b[43m        \u001b[49m\u001b[43mstudy\u001b[49m\u001b[43m=\u001b[49m\u001b[38;5;28;43mself\u001b[39;49m\u001b[43m,\u001b[49m\n\u001b[32m    477\u001b[39m \u001b[43m        \u001b[49m\u001b[43mfunc\u001b[49m\u001b[43m=\u001b[49m\u001b[43mfunc\u001b[49m\u001b[43m,\u001b[49m\n\u001b[32m    478\u001b[39m \u001b[43m        \u001b[49m\u001b[43mn_trials\u001b[49m\u001b[43m=\u001b[49m\u001b[43mn_trials\u001b[49m\u001b[43m,\u001b[49m\n\u001b[32m    479\u001b[39m \u001b[43m        \u001b[49m\u001b[43mtimeout\u001b[49m\u001b[43m=\u001b[49m\u001b[43mtimeout\u001b[49m\u001b[43m,\u001b[49m\n\u001b[32m    480\u001b[39m \u001b[43m        \u001b[49m\u001b[43mn_jobs\u001b[49m\u001b[43m=\u001b[49m\u001b[43mn_jobs\u001b[49m\u001b[43m,\u001b[49m\n\u001b[32m    481\u001b[39m \u001b[43m        \u001b[49m\u001b[43mcatch\u001b[49m\u001b[43m=\u001b[49m\u001b[38;5;28;43mtuple\u001b[39;49m\u001b[43m(\u001b[49m\u001b[43mcatch\u001b[49m\u001b[43m)\u001b[49m\u001b[43m \u001b[49m\u001b[38;5;28;43;01mif\u001b[39;49;00m\u001b[43m \u001b[49m\u001b[38;5;28;43misinstance\u001b[39;49m\u001b[43m(\u001b[49m\u001b[43mcatch\u001b[49m\u001b[43m,\u001b[49m\u001b[43m \u001b[49m\u001b[43mIterable\u001b[49m\u001b[43m)\u001b[49m\u001b[43m \u001b[49m\u001b[38;5;28;43;01melse\u001b[39;49;00m\u001b[43m \u001b[49m\u001b[43m(\u001b[49m\u001b[43mcatch\u001b[49m\u001b[43m,\u001b[49m\u001b[43m)\u001b[49m\u001b[43m,\u001b[49m\n\u001b[32m    482\u001b[39m \u001b[43m        \u001b[49m\u001b[43mcallbacks\u001b[49m\u001b[43m=\u001b[49m\u001b[43mcallbacks\u001b[49m\u001b[43m,\u001b[49m\n\u001b[32m    483\u001b[39m \u001b[43m        \u001b[49m\u001b[43mgc_after_trial\u001b[49m\u001b[43m=\u001b[49m\u001b[43mgc_after_trial\u001b[49m\u001b[43m,\u001b[49m\n\u001b[32m    484\u001b[39m \u001b[43m        \u001b[49m\u001b[43mshow_progress_bar\u001b[49m\u001b[43m=\u001b[49m\u001b[43mshow_progress_bar\u001b[49m\u001b[43m,\u001b[49m\n\u001b[32m    485\u001b[39m \u001b[43m    \u001b[49m\u001b[43m)\u001b[49m\n",
      "\u001b[36mFile \u001b[39m\u001b[32mc:\\Users\\JAM5BG\\OneDrive - Bosch Group\\PersonalDrive\\YT-tutorials\\PyTorch Workflow Mastery - Cainã Max Couto da Silva\\.venv\\Lib\\site-packages\\optuna\\study\\_optimize.py:63\u001b[39m, in \u001b[36m_optimize\u001b[39m\u001b[34m(study, func, n_trials, timeout, n_jobs, catch, callbacks, gc_after_trial, show_progress_bar)\u001b[39m\n\u001b[32m     61\u001b[39m \u001b[38;5;28;01mtry\u001b[39;00m:\n\u001b[32m     62\u001b[39m     \u001b[38;5;28;01mif\u001b[39;00m n_jobs == \u001b[32m1\u001b[39m:\n\u001b[32m---> \u001b[39m\u001b[32m63\u001b[39m         \u001b[43m_optimize_sequential\u001b[49m\u001b[43m(\u001b[49m\n\u001b[32m     64\u001b[39m \u001b[43m            \u001b[49m\u001b[43mstudy\u001b[49m\u001b[43m,\u001b[49m\n\u001b[32m     65\u001b[39m \u001b[43m            \u001b[49m\u001b[43mfunc\u001b[49m\u001b[43m,\u001b[49m\n\u001b[32m     66\u001b[39m \u001b[43m            \u001b[49m\u001b[43mn_trials\u001b[49m\u001b[43m,\u001b[49m\n\u001b[32m     67\u001b[39m \u001b[43m            \u001b[49m\u001b[43mtimeout\u001b[49m\u001b[43m,\u001b[49m\n\u001b[32m     68\u001b[39m \u001b[43m            \u001b[49m\u001b[43mcatch\u001b[49m\u001b[43m,\u001b[49m\n\u001b[32m     69\u001b[39m \u001b[43m            \u001b[49m\u001b[43mcallbacks\u001b[49m\u001b[43m,\u001b[49m\n\u001b[32m     70\u001b[39m \u001b[43m            \u001b[49m\u001b[43mgc_after_trial\u001b[49m\u001b[43m,\u001b[49m\n\u001b[32m     71\u001b[39m \u001b[43m            \u001b[49m\u001b[43mreseed_sampler_rng\u001b[49m\u001b[43m=\u001b[49m\u001b[38;5;28;43;01mFalse\u001b[39;49;00m\u001b[43m,\u001b[49m\n\u001b[32m     72\u001b[39m \u001b[43m            \u001b[49m\u001b[43mtime_start\u001b[49m\u001b[43m=\u001b[49m\u001b[38;5;28;43;01mNone\u001b[39;49;00m\u001b[43m,\u001b[49m\n\u001b[32m     73\u001b[39m \u001b[43m            \u001b[49m\u001b[43mprogress_bar\u001b[49m\u001b[43m=\u001b[49m\u001b[43mprogress_bar\u001b[49m\u001b[43m,\u001b[49m\n\u001b[32m     74\u001b[39m \u001b[43m        \u001b[49m\u001b[43m)\u001b[49m\n\u001b[32m     75\u001b[39m     \u001b[38;5;28;01melse\u001b[39;00m:\n\u001b[32m     76\u001b[39m         \u001b[38;5;28;01mif\u001b[39;00m n_jobs == -\u001b[32m1\u001b[39m:\n",
      "\u001b[36mFile \u001b[39m\u001b[32mc:\\Users\\JAM5BG\\OneDrive - Bosch Group\\PersonalDrive\\YT-tutorials\\PyTorch Workflow Mastery - Cainã Max Couto da Silva\\.venv\\Lib\\site-packages\\optuna\\study\\_optimize.py:160\u001b[39m, in \u001b[36m_optimize_sequential\u001b[39m\u001b[34m(study, func, n_trials, timeout, catch, callbacks, gc_after_trial, reseed_sampler_rng, time_start, progress_bar)\u001b[39m\n\u001b[32m    157\u001b[39m         \u001b[38;5;28;01mbreak\u001b[39;00m\n\u001b[32m    159\u001b[39m \u001b[38;5;28;01mtry\u001b[39;00m:\n\u001b[32m--> \u001b[39m\u001b[32m160\u001b[39m     frozen_trial = \u001b[43m_run_trial\u001b[49m\u001b[43m(\u001b[49m\u001b[43mstudy\u001b[49m\u001b[43m,\u001b[49m\u001b[43m \u001b[49m\u001b[43mfunc\u001b[49m\u001b[43m,\u001b[49m\u001b[43m \u001b[49m\u001b[43mcatch\u001b[49m\u001b[43m)\u001b[49m\n\u001b[32m    161\u001b[39m \u001b[38;5;28;01mfinally\u001b[39;00m:\n\u001b[32m    162\u001b[39m     \u001b[38;5;66;03m# The following line mitigates memory problems that can be occurred in some\u001b[39;00m\n\u001b[32m    163\u001b[39m     \u001b[38;5;66;03m# environments (e.g., services that use computing containers such as GitHub Actions).\u001b[39;00m\n\u001b[32m    164\u001b[39m     \u001b[38;5;66;03m# Please refer to the following PR for further details:\u001b[39;00m\n\u001b[32m    165\u001b[39m     \u001b[38;5;66;03m# https://github.com/optuna/optuna/pull/325.\u001b[39;00m\n\u001b[32m    166\u001b[39m     \u001b[38;5;28;01mif\u001b[39;00m gc_after_trial:\n",
      "\u001b[36mFile \u001b[39m\u001b[32mc:\\Users\\JAM5BG\\OneDrive - Bosch Group\\PersonalDrive\\YT-tutorials\\PyTorch Workflow Mastery - Cainã Max Couto da Silva\\.venv\\Lib\\site-packages\\optuna\\study\\_optimize.py:248\u001b[39m, in \u001b[36m_run_trial\u001b[39m\u001b[34m(study, func, catch)\u001b[39m\n\u001b[32m    241\u001b[39m         \u001b[38;5;28;01massert\u001b[39;00m \u001b[38;5;28;01mFalse\u001b[39;00m, \u001b[33m\"\u001b[39m\u001b[33mShould not reach.\u001b[39m\u001b[33m\"\u001b[39m\n\u001b[32m    243\u001b[39m \u001b[38;5;28;01mif\u001b[39;00m (\n\u001b[32m    244\u001b[39m     frozen_trial.state == TrialState.FAIL\n\u001b[32m    245\u001b[39m     \u001b[38;5;129;01mand\u001b[39;00m func_err \u001b[38;5;129;01mis\u001b[39;00m \u001b[38;5;129;01mnot\u001b[39;00m \u001b[38;5;28;01mNone\u001b[39;00m\n\u001b[32m    246\u001b[39m     \u001b[38;5;129;01mand\u001b[39;00m \u001b[38;5;129;01mnot\u001b[39;00m \u001b[38;5;28misinstance\u001b[39m(func_err, catch)\n\u001b[32m    247\u001b[39m ):\n\u001b[32m--> \u001b[39m\u001b[32m248\u001b[39m     \u001b[38;5;28;01mraise\u001b[39;00m func_err\n\u001b[32m    249\u001b[39m \u001b[38;5;28;01mreturn\u001b[39;00m frozen_trial\n",
      "\u001b[36mFile \u001b[39m\u001b[32mc:\\Users\\JAM5BG\\OneDrive - Bosch Group\\PersonalDrive\\YT-tutorials\\PyTorch Workflow Mastery - Cainã Max Couto da Silva\\.venv\\Lib\\site-packages\\optuna\\study\\_optimize.py:197\u001b[39m, in \u001b[36m_run_trial\u001b[39m\u001b[34m(study, func, catch)\u001b[39m\n\u001b[32m    195\u001b[39m \u001b[38;5;28;01mwith\u001b[39;00m get_heartbeat_thread(trial._trial_id, study._storage):\n\u001b[32m    196\u001b[39m     \u001b[38;5;28;01mtry\u001b[39;00m:\n\u001b[32m--> \u001b[39m\u001b[32m197\u001b[39m         value_or_values = \u001b[43mfunc\u001b[49m\u001b[43m(\u001b[49m\u001b[43mtrial\u001b[49m\u001b[43m)\u001b[49m\n\u001b[32m    198\u001b[39m     \u001b[38;5;28;01mexcept\u001b[39;00m exceptions.TrialPruned \u001b[38;5;28;01mas\u001b[39;00m e:\n\u001b[32m    199\u001b[39m         \u001b[38;5;66;03m# TODO(mamu): Handle multi-objective cases.\u001b[39;00m\n\u001b[32m    200\u001b[39m         state = TrialState.PRUNED\n",
      "\u001b[36mCell\u001b[39m\u001b[36m \u001b[39m\u001b[32mIn[10]\u001b[39m\u001b[32m, line 16\u001b[39m, in \u001b[36mobjective\u001b[39m\u001b[34m(trial)\u001b[39m\n\u001b[32m      5\u001b[39m hparams = {\n\u001b[32m      6\u001b[39m     \u001b[33m\"\u001b[39m\u001b[33mlearning_rate\u001b[39m\u001b[33m\"\u001b[39m: trial.suggest_float(\u001b[33m\"\u001b[39m\u001b[33mlearning_rate\u001b[39m\u001b[33m\"\u001b[39m, \u001b[32m1e-4\u001b[39m, \u001b[32m1e-2\u001b[39m, log=\u001b[38;5;28;01mTrue\u001b[39;00m),\n\u001b[32m      7\u001b[39m     \u001b[33m\"\u001b[39m\u001b[33mbatch_size\u001b[39m\u001b[33m\"\u001b[39m: trial.suggest_categorical(\u001b[33m\"\u001b[39m\u001b[33mbatch_size\u001b[39m\u001b[33m\"\u001b[39m, [\u001b[32m64\u001b[39m, \u001b[32m128\u001b[39m, \u001b[32m256\u001b[39m]),\n\u001b[32m   (...)\u001b[39m\u001b[32m     12\u001b[39m     \u001b[33m\"\u001b[39m\u001b[33mtrial_number\u001b[39m\u001b[33m\"\u001b[39m: trial.number\n\u001b[32m     13\u001b[39m }\n\u001b[32m     15\u001b[39m \u001b[38;5;66;03m# Initialize W&B\u001b[39;00m\n\u001b[32m---> \u001b[39m\u001b[32m16\u001b[39m run = \u001b[43mwandb\u001b[49m\u001b[43m.\u001b[49m\u001b[43minit\u001b[49m\u001b[43m(\u001b[49m\n\u001b[32m     17\u001b[39m \u001b[43m    \u001b[49m\u001b[43mproject\u001b[49m\u001b[43m=\u001b[49m\u001b[33;43m\"\u001b[39;49m\u001b[33;43mpytorch-cifar10-optuna\u001b[39;49m\u001b[33;43m\"\u001b[39;49m\u001b[43m,\u001b[49m\n\u001b[32m     18\u001b[39m \u001b[43m    \u001b[49m\u001b[43mconfig\u001b[49m\u001b[43m=\u001b[49m\u001b[43mhparams\u001b[49m\u001b[43m,\u001b[49m\n\u001b[32m     19\u001b[39m \u001b[43m    \u001b[49m\u001b[43mname\u001b[49m\u001b[43m=\u001b[49m\u001b[33;43mf\u001b[39;49m\u001b[33;43m\"\u001b[39;49m\u001b[33;43mtrial_\u001b[39;49m\u001b[38;5;132;43;01m{\u001b[39;49;00m\u001b[43mtrial\u001b[49m\u001b[43m.\u001b[49m\u001b[43mnumber\u001b[49m\u001b[38;5;132;43;01m}\u001b[39;49;00m\u001b[33;43m\"\u001b[39;49m\u001b[43m,\u001b[49m\n\u001b[32m     20\u001b[39m \u001b[43m    \u001b[49m\u001b[43mreinit\u001b[49m\u001b[43m=\u001b[49m\u001b[38;5;28;43;01mTrue\u001b[39;49;00m\n\u001b[32m     21\u001b[39m \u001b[43m\u001b[49m\u001b[43m)\u001b[49m\n\u001b[32m     23\u001b[39m \u001b[38;5;66;03m# Load datasets\u001b[39;00m\n\u001b[32m     24\u001b[39m train_dataset = datasets.CIFAR10(\n\u001b[32m     25\u001b[39m     root=\u001b[33m'\u001b[39m\u001b[33m./data\u001b[39m\u001b[33m'\u001b[39m, train=\u001b[38;5;28;01mTrue\u001b[39;00m, download=\u001b[38;5;28;01mTrue\u001b[39;00m, transform=train_transformer\n\u001b[32m     26\u001b[39m )\n",
      "\u001b[36mFile \u001b[39m\u001b[32mc:\\Users\\JAM5BG\\OneDrive - Bosch Group\\PersonalDrive\\YT-tutorials\\PyTorch Workflow Mastery - Cainã Max Couto da Silva\\.venv\\Lib\\site-packages\\wandb\\sdk\\wandb_init.py:1544\u001b[39m, in \u001b[36minit\u001b[39m\u001b[34m(entity, project, dir, id, name, notes, tags, config, config_exclude_keys, config_include_keys, allow_val_change, group, job_type, mode, force, anonymous, reinit, resume, resume_from, fork_from, save_code, tensorboard, sync_tensorboard, monitor_gym, settings)\u001b[39m\n\u001b[32m   1540\u001b[39m     wl._get_logger().exception(\u001b[33m\"\u001b[39m\u001b[33merror in wandb.init()\u001b[39m\u001b[33m\"\u001b[39m, exc_info=e)\n\u001b[32m   1542\u001b[39m \u001b[38;5;66;03m# Need to build delay into this sentry capture because our exit hooks\u001b[39;00m\n\u001b[32m   1543\u001b[39m \u001b[38;5;66;03m# mess with sentry's ability to send out errors before the program ends.\u001b[39;00m\n\u001b[32m-> \u001b[39m\u001b[32m1544\u001b[39m \u001b[43mwandb\u001b[49m\u001b[43m.\u001b[49m\u001b[43m_sentry\u001b[49m\u001b[43m.\u001b[49m\u001b[43mreraise\u001b[49m\u001b[43m(\u001b[49m\u001b[43me\u001b[49m\u001b[43m)\u001b[49m\n\u001b[32m   1545\u001b[39m \u001b[38;5;28;01mraise\u001b[39;00m \u001b[38;5;167;01mAssertionError\u001b[39;00m()\n",
      "\u001b[36mFile \u001b[39m\u001b[32mc:\\Users\\JAM5BG\\OneDrive - Bosch Group\\PersonalDrive\\YT-tutorials\\PyTorch Workflow Mastery - Cainã Max Couto da Silva\\.venv\\Lib\\site-packages\\wandb\\analytics\\sentry.py:156\u001b[39m, in \u001b[36mSentry.reraise\u001b[39m\u001b[34m(self, exc)\u001b[39m\n\u001b[32m    153\u001b[39m \u001b[38;5;28mself\u001b[39m.exception(exc)\n\u001b[32m    154\u001b[39m \u001b[38;5;66;03m# this will messily add this \"reraise\" function to the stack trace,\u001b[39;00m\n\u001b[32m    155\u001b[39m \u001b[38;5;66;03m# but hopefully it's not too bad\u001b[39;00m\n\u001b[32m--> \u001b[39m\u001b[32m156\u001b[39m \u001b[38;5;28;01mraise\u001b[39;00m exc.with_traceback(sys.exc_info()[\u001b[32m2\u001b[39m])\n",
      "\u001b[36mFile \u001b[39m\u001b[32mc:\\Users\\JAM5BG\\OneDrive - Bosch Group\\PersonalDrive\\YT-tutorials\\PyTorch Workflow Mastery - Cainã Max Couto da Silva\\.venv\\Lib\\site-packages\\wandb\\sdk\\wandb_init.py:1530\u001b[39m, in \u001b[36minit\u001b[39m\u001b[34m(entity, project, dir, id, name, notes, tags, config, config_exclude_keys, config_include_keys, allow_val_change, group, job_type, mode, force, anonymous, reinit, resume, resume_from, fork_from, save_code, tensorboard, sync_tensorboard, monitor_gym, settings)\u001b[39m\n\u001b[32m   1527\u001b[39m         \u001b[38;5;28;01mif\u001b[39;00m run_settings.x_server_side_derived_summary:\n\u001b[32m   1528\u001b[39m             init_telemetry.feature.server_side_derived_summary = \u001b[38;5;28;01mTrue\u001b[39;00m\n\u001b[32m-> \u001b[39m\u001b[32m1530\u001b[39m         \u001b[38;5;28;01mreturn\u001b[39;00m \u001b[43mwi\u001b[49m\u001b[43m.\u001b[49m\u001b[43minit\u001b[49m\u001b[43m(\u001b[49m\u001b[43mrun_settings\u001b[49m\u001b[43m,\u001b[49m\u001b[43m \u001b[49m\u001b[43mrun_config\u001b[49m\u001b[43m)\u001b[49m\n\u001b[32m   1532\u001b[39m \u001b[38;5;28;01mexcept\u001b[39;00m \u001b[38;5;167;01mKeyboardInterrupt\u001b[39;00m \u001b[38;5;28;01mas\u001b[39;00m e:\n\u001b[32m   1533\u001b[39m     \u001b[38;5;28;01mif\u001b[39;00m wl:\n",
      "\u001b[36mFile \u001b[39m\u001b[32mc:\\Users\\JAM5BG\\OneDrive - Bosch Group\\PersonalDrive\\YT-tutorials\\PyTorch Workflow Mastery - Cainã Max Couto da Silva\\.venv\\Lib\\site-packages\\wandb\\sdk\\wandb_init.py:987\u001b[39m, in \u001b[36m_WandbInit.init\u001b[39m\u001b[34m(self, settings, config)\u001b[39m\n\u001b[32m    984\u001b[39m \u001b[38;5;28;01massert\u001b[39;00m result.run_result\n\u001b[32m    986\u001b[39m \u001b[38;5;28;01mif\u001b[39;00m error := ProtobufErrorHandler.to_exception(result.run_result.error):\n\u001b[32m--> \u001b[39m\u001b[32m987\u001b[39m     \u001b[38;5;28;01mraise\u001b[39;00m error\n\u001b[32m    989\u001b[39m \u001b[38;5;28;01mif\u001b[39;00m \u001b[38;5;129;01mnot\u001b[39;00m result.run_result.HasField(\u001b[33m\"\u001b[39m\u001b[33mrun\u001b[39m\u001b[33m\"\u001b[39m):\n\u001b[32m    990\u001b[39m     \u001b[38;5;28;01mraise\u001b[39;00m Error(\u001b[33m\"\u001b[39m\u001b[33mAssertion failed: run_result is missing the run field\u001b[39m\u001b[33m\"\u001b[39m)\n",
      "\u001b[31mCommError\u001b[39m: failed to upsert bucket: returned error 401: {\"data\":{\"upsertBucket\":null},\"errors\":[{\"message\":\"user is not logged in\",\"path\":[\"upsertBucket\"],\"extensions\":{\"code\":\"PERMISSION_ERROR\"}}]}"
     ]
    }
   ],
   "source": [
    "logger.info(\"Starting hyperparameter optimization...\")\n",
    "study.optimize(objective, n_trials=10)"
   ]
  },
  {
   "cell_type": "code",
   "execution_count": null,
   "metadata": {},
   "outputs": [],
   "source": [
    "# Print results\n",
    "logger.info(\"Best trial:\")\n",
    "trial = study.best_trial\n",
    "logger.info(f\"  Value: {trial.value:.3f}\")\n",
    "logger.info(\"  Params: \")\n",
    "for key, value in trial.params.items():\n",
    "    logger.info(f\"    {key}: {value}\")"
   ]
  },
  {
   "cell_type": "code",
   "execution_count": null,
   "metadata": {},
   "outputs": [],
   "source": [
    "trial.number"
   ]
  }
 ],
 "metadata": {
  "kernelspec": {
   "display_name": ".venv",
   "language": "python",
   "name": "python3"
  },
  "language_info": {
   "codemirror_mode": {
    "name": "ipython",
    "version": 3
   },
   "file_extension": ".py",
   "mimetype": "text/x-python",
   "name": "python",
   "nbconvert_exporter": "python",
   "pygments_lexer": "ipython3",
   "version": "3.13.0"
  }
 },
 "nbformat": 4,
 "nbformat_minor": 2
}
